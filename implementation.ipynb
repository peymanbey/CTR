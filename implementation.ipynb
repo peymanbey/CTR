{
 "cells": [
  {
   "cell_type": "markdown",
   "metadata": {},
   "source": [
    "- Read data and transform features to appropriate format\n",
    "\n",
    "- Explore\n",
    "    - **TODO**: The banner_pos introduces position bias, maybe use SBDN estimate of position bias\n",
    "    - **TODO**: There is click correlation with time of day\n",
    "    - **TODO**: C1 is highly correlated with device type. they seem to be the same\n",
    "\n",
    "- Check single and multi-variable densities\n",
    "    - **TODO**: C1/Device_type highly skewed, dominates. Use multiple models\n",
    "    - **TODO**: Banner position also highly skewed. Try to find better models\n",
    "\n",
    "\n",
    "- **Final todo**\n",
    "    - **TODO**: Replace low frequence categories with cat other. less than a 100 times will do. \n",
    "    - **TODO**: Concat features and check for the improved association\n",
    "    - **TODO**: Check the assiciation of making error with skewed variables and split data accordingly.\n",
    "- Implement initial model\n",
    "    - one-hot\n",
    "    - SGDClassifier\n",
    "    - Log-loss\n",
    "    - CV\n",
    "    - RF\n",
    "\n",
    "- diagnose\n",
    "    - one-hot encode/Binary Encode    - \n",
    "    - chi2 selection\n",
    "    - RBF kernel\n",
    "    - Polynomial features\n",
    "    - Remove correlations\n",
    "    - PCA\n",
    "    - Kernel estimation\n",
    "    - CV for optimisation\n",
    "    - Hyper parameter optimisation\n",
    "- Iterate"
   ]
  },
  {
   "cell_type": "markdown",
   "metadata": {},
   "source": [
    "# Read data"
   ]
  },
  {
   "cell_type": "code",
   "execution_count": 1,
   "metadata": {
    "collapsed": true,
    "scrolled": true
   },
   "outputs": [],
   "source": [
    "# Read data and explore\n",
    "import pandas as pd\n",
    "import numpy as np\n",
    "import random\n",
    "from src import categorical_association\n",
    "from sklearn.metrics import confusion_matrix, roc_curve, auc, f1_score, log_loss, make_scorer\n",
    "from sklearn.model_selection import RandomizedSearchCV\n",
    "from sklearn.utils import shuffle\n",
    "from sklearn.preprocessing import OneHotEncoder\n",
    "from sklearn.linear_model import SGDClassifier\n",
    "from sklearn.pipeline import Pipeline\n",
    "from sklearn.kernel_approximation import RBFSampler\n",
    "\n",
    "from scipy import stats\n",
    "\n",
    "from IPython.display import clear_output\n",
    "import matplotlib.pyplot as plt\n",
    "import seaborn as sns\n",
    "%matplotlib inline"
   ]
  },
  {
   "cell_type": "code",
   "execution_count": 69,
   "metadata": {
    "collapsed": true
   },
   "outputs": [],
   "source": [
    "file = \"D:\\OTHERFILES\\Code\\CTR\\Azavu_train.csv\"\n",
    "\n",
    "# generate 10% random row number\n",
    "## Get the row count\n",
    "with open(file) as f:\n",
    "    n = sum(1 for row in f)\n",
    "\n",
    "# ## generate row index to skip\n",
    "# inds = random.sample(range(1, n), int(.9 * n))\n",
    "\n",
    "# ## read data\n",
    "# data_raw = pd.read_csv(file, low_memory=True, skiprows=inds)\n",
    "\n",
    "# ## Or simply read the initial 10/20 % \n",
    "data_raw = pd.read_csv(file, low_memory=True, nrows= int(.1*n))"
   ]
  },
  {
   "cell_type": "markdown",
   "metadata": {},
   "source": [
    "# Explore data"
   ]
  },
  {
   "cell_type": "code",
   "execution_count": 70,
   "metadata": {
    "collapsed": true
   },
   "outputs": [
    {
     "name": "stdout",
     "output_type": "stream",
     "text": [
      "id [  1.00000942e+18   1.00001693e+19   1.00003719e+19 ...,   8.85365729e+18\n",
      "   8.85410948e+17   8.85414120e+18]\n",
      "(4042896,) 4042896\n",
      "click [0 1]\n",
      "(2,) 4042896\n",
      "hour [14102100 14102101 14102102 14102103 14102104 14102105 14102106 14102107\n",
      " 14102108 14102109 14102110 14102111 14102112 14102113 14102114 14102115\n",
      " 14102116 14102117 14102118 14102119 14102120 14102121 14102122]\n",
      "(23,) 4042896\n",
      "C1 [1005 1002 1010 1001 1007 1008 1012]\n",
      "(7,) 4042896\n",
      "banner_pos [0 1 4 5 2 7 3]\n",
      "(7,) 4042896\n",
      "site_id ['1fbe01fe' 'fe8cc448' 'd6137915' ..., '6ac91893' 'aa55f77f' '8d9e19c8']\n",
      "(2860,) 4042896\n",
      "site_domain ['f3845767' '9166c161' 'bb1ef334' ..., 'ba57288d' '324dcd3c' '05ff0fb9']\n",
      "(3372,) 4042896\n",
      "site_category ['28905ebd' '0569f928' 'f028772b' '50e219e0' '3e814130' '76b2941d'\n",
      " 'f66779e6' '335d28a8' '72722551' '75fa27f6' '110ab22d' 'c0dd3be3'\n",
      " 'bcf865d9' 'a818d37a' '42a36e14' 'e787de0e' '5378d028' '9ccfa2ea'\n",
      " '70fb0e29' 'dedf689d' '8fd0aea4' '74073276']\n",
      "(22,) 4042896\n",
      "app_id ['ecad2386' '98fed791' '66a5f0f3' ..., '1929ea63' '95720db1' '63d0fd0a']\n",
      "(4130,) 4042896\n",
      "app_domain ['7801e8d9' 'd9b5648e' '2347f47a' '45a51db4' '82e27996' '5c5a694b'\n",
      " '0654b444' 'aefc06bd' '33da2e74' 'ad63ec9b' '5b9c592b' 'ae637522'\n",
      " '885c7f3f' 'b9528b13' '813f3323' 'c6824def' 'b5f3b24a' '5c620f04'\n",
      " '43cf4f06' 'f2f777fb' '18eb4e75' 'e787a6bc' '15ec7f39' 'db829551'\n",
      " 'f3ad7798' '6f7ca2ba' 'df32afa9' 'afdf1f54' '5ac0b939' 'b8d325c3'\n",
      " '3feeed1e' 'e5d5313f' '1ed56ded' '56eabb45' '713c0c91' '828da833'\n",
      " 'b2816726' '2b627705' '1ea19ec4' '88293ffa' 'c41aa5ee' '2d332391'\n",
      " 'fc41b20c' '5b3f66ff' '9acfe436' '90706f5d' '27ee373d' 'b0920d40'\n",
      " '8bb7dba9' '51174fb1' '2022d54e' 'f5a7c834' 'ef1fc174' 'd6feb1a4'\n",
      " '8d87821d' '99b4c806' 'd9f4700d' '47464e95' '6a0a3a9d' '47db8711'\n",
      " '48aec236' '15c23f8e' 'b408d42a' '73fc6786' '0b7d3d7d' '86aa8fec'\n",
      " 'fd5f0ee2' 'a5f9dc5b' '64ae80a5' 'a271c340' '4fafd4c4' 'c91cbbb4'\n",
      " 'af237497' '0e8616ad' 'b6c7e8e1' 'b1ab9955' '0eb1a401' 'b12ff13e'\n",
      " '2c1c31c6' '700adbf0' 'dcb74110' '7a9371fa' '9ecca2dd' '999f1fac'\n",
      " '0d79ee56' '86adec6c' '7bbb38df' '17810bfa' '3c992420' 'ba275770'\n",
      " 'd9e67b62' '4e007635' '44324ff4' '5daf29b2' '6bfb9168' 'fd68cbd8'\n",
      " '6a90b0cb' '6cf43c3b' '1438d51f' '24f896e0' '519a450d' 'b6db2208'\n",
      " 'b398ab59' '6c2d0c26' '800100e0' '1ddc989f' '1cb641ec' '52d64e90'\n",
      " '449e219f' '5bcedd7d' '9ec164d3' '323f3fe5' 'cb36afb8' '863f4950'\n",
      " '7b833eb9' '1d5e09f4' '3ca588d4' '55240cf0' '63f57be0' '756ffb85'\n",
      " '15fa2703' '298309ba' '9cc1123d' 'af201489' '002e4064' 'b51aefa8'\n",
      " 'd3e7c965' '366cee9d' '9e96e8cf' '9830a8fb' '65b2af4c' 'fd0f197b'\n",
      " '23e2c80e' '2619a4f7' 'ad65a8a2' 'bd8c1fdc' 'da1be86e' 'b7af3e0a'\n",
      " 'd3c75c8f' 'e25eea83' 'f75ccedd' '97efe5c6' 'b299335a' '337b74ad'\n",
      " '063914ab' '4ed652f4' 'f2140094' 'c72257c6' 'eaaf6d12' '20ab8b07'\n",
      " '1b74784d' 'd18c63a1' '916026d9' 'e51135b7' '9299777a' '1cbecd39'\n",
      " '90322ef6' 'e7928b55' 'fceed35e' 'edc7d7a7' '3df323d8' '7cf770da'\n",
      " '26894d3c' '3191f81f' 'b88e8096' 'b50610ee' '78051bc0' '5211766b'\n",
      " 'c36365e3' '4d86b5ce' 'b97def0d' '30f30cf0' '92895b94' '5ba508e3'\n",
      " 'f91396ac' '7a94af76' 'b9215c20' '15f7400f' '9d65dcb9' '12ea721c'\n",
      " '3741ede9' 'a67cb0c5' '1638b0a9' '6aafed40' 'aee494fb' 'fd53c2dc'\n",
      " '64845f22' '5ad474ea' '9c566260' '05975007' '5c8af8e9' '29cd071c'\n",
      " '772df91c' 'f84a2400' 'f7f22564' 'a5204413' '67c844d8' 'cda96d46'\n",
      " '57cf0548' 'e5d008b4' 'dec87c2e' 'bf2623ab' '17578ec3' 'bcef5708'\n",
      " '6ec102c5' '12aaf71f' '201ad671' '36fb59d6' '734d52b9' 'b4da5985'\n",
      " '7d58e760' 'a09b1cc0' '3e9b6bc2' '7b3b7dad' '1c666936' 'ce2ca36f'\n",
      " 'e81561d1' 'ed7f6170' 'cd732fd5' '448ca2e3' '94007c57' 'e193e1f5'\n",
      " '4e0bb613' '455b7630' '59e465f4' 'f1083d2a' '09abdb18' 'edd13025'\n",
      " '256a5990' 'd98095bb' 'f7eba725' '9a9085ad' '8fbe42cb' '788e5855'\n",
      " 'c0940197' 'fce7d5d4' '5da9e6db' '6b062297' '3a37fc9a' 'b8f3e522'\n",
      " 'ae36b8ab' 'e9d5949e' '41c9b931' '5af432e2' 'ab6b3530' 'ea4fcf79'\n",
      " '435769ed' 'f09de4dc' '2d4a0207' '438468ad' '6f406d5b' '863c4528'\n",
      " '96c7bad2' '1c895c8c' 'dbf5ab77' 'a5ab1a9f' '030e4250' '1833416a'\n",
      " 'dcdba109' 'a841febe' '316edd1b' 'c5c485e8' '5576cc84' 'e24414c4'\n",
      " 'c15f229b' '8ab0d4f4' '26378630' '7bb90734' 'd15c637f' 'f48b6635'\n",
      " '90d75517' 'c87b28e6' 'b28f54ad' 'ca7441a4' '424d97b0' '36358a3d'\n",
      " '1c37dcad' 'cb96370c' '5048f612' '3419dd80' 'c0e0e9ca' '6437e20c'\n",
      " '88f50364']\n",
      "(283,) 4042896\n",
      "app_category ['07d7df22' '0f2161f8' 'cef3e649' '8ded1f7a' 'f95efa07' '75d80bbe'\n",
      " '4ce2e9fc' 'd1327cf5' '09481d60' 'fc6fa53d' 'dc97ec06' 'a3c42688'\n",
      " '0f9a328c' '879c24eb' 'a86a3e89' '7113d72a' 'a7fd01ec' '4681bb9d'\n",
      " '8df2e842' '2281a340' '18b1e0be' '0bfbc358' '79f0b860' '4b7ade46'\n",
      " '86c1a5a3' '2fc4f2aa' '5326cf99' 'ef03ae90' '71af18ce' '52de74cf'\n",
      " 'bd41f328']\n",
      "(31,) 4042896\n",
      "device_id ['a99f214a' 'c357dbff' 'fb23c543' ..., 'a0d22f32' '35b6b95f' '97f7a38a']\n",
      "(361079,) 4042896\n",
      "device_ip ['ddd2926e' '96809ac8' 'b3cf8def' ..., 'adba6897' '7ab33397' 'efdad0aa']\n",
      "(1062748,) 4042896\n",
      "device_model ['44956a24' '711ee120' '8a4875bd' ..., 'e2e09308' '0569dc29' '0f7ef4f4']\n",
      "(6075,) 4042896\n",
      "device_type [1 0 4 5]\n",
      "(4,) 4042896\n",
      "device_conn_type [2 0 3 5]\n",
      "(4,) 4042896\n",
      "C14 [15706 15704 18993 16920 20362 20632 15707 21689 17747 15701 20596 19771\n",
      " 20984 15699 17914 15708  6558 21234 20352 20366 21665 21611 16838 18987\n",
      " 19870 21661 16208 17037 15705 16615 20634 17212 15702 17654  4687 15703\n",
      " 21691 20633 21682 19772 18945 19665 19743 16859 21300 17661  9438 17264\n",
      " 20359 17875 19016  6616 20170 17614 21612 17753 21660  6563 19950 17239\n",
      " 17081 20346 21310 20382 16989 17163 21688 20153 18648  9461 15006 20980\n",
      " 16071 21309 20751   381 19015 20508 17653   377 19666   456 20345  6559\n",
      " 20251 21189 21692 18311 19865 20093 12000 15700 13780  6557 18095 21311\n",
      " 20363 16858 18936  1270 15698 20143 20312 20969  6393 20355  6560 12004\n",
      "  9478 21674 17877 20009 19733 21683 21684 12470  6392 19741 15908 20077\n",
      " 18091 20007 18856 17586 20365   380 20390 20966 17893 20970 18934 18316\n",
      " 20635  4407 20004 20016 21699 17894 20289 21704 21202 20005 21296 21678\n",
      " 21399 20560 21685 18093  1276 17583   452 20006 18858 16687 20215 21677\n",
      " 17573 16685 20008 16407 21200 21610 18092 20145 15016 13644 18954 21676\n",
      " 18947  1275 14988 21680 21233 15005 18925 18946 19878  9803 12026 20018\n",
      "  6993   787 16405 12008 20731 20014 20213 21277 21640  6364 20144 20279\n",
      " 21411 21409 16408 19740 14983 17014 16263 18314 16011 18854 20128 19985\n",
      " 20122  6399  1278 21698 21410 21679  1269 21675 21388  9248   375 20744\n",
      " 20015  6991 21694 15017 20214  1268 18953 17863 21191 21593 20361  7695\n",
      " 21687 15010 20149  6990   454  9436 21201 20151 21681 21484 13782 17262\n",
      " 15829 12471 21614 21476 20130 12477  7024 15541 16406 19454 20743 19742\n",
      " 13779 16070 18094 21595 21401 20282 21400 21705 20364 14985 19988  6362\n",
      " 18952 21700  6361 17026 21483 20360 20135 20148  6398  1039  1272 20474\n",
      " 20013 15543 15390  6360 20146  1037 20131 21633 21701 20353 21609 21478\n",
      " 21696 21568 21413 12041 17263 20628 20011 11994 17755 21703 16403 21404\n",
      " 20019  1038  6992 21278  6365 12203   463  6366 21695 21566 18948 21481\n",
      "  1267 12016 15544 19951 12012 15542 11993 21276 15550 21615 20272  9798\n",
      " 12469 15540 20147 21243 20288 20273 20271  6397  1266 21194 12226 16841\n",
      " 12236  8994 12472 18949 21697 21485  8995 20295 19983 20274 21367 20133\n",
      " 21693 13643 20010 20152 21412 12028 21475 20750  4518 21594 21477 21408\n",
      " 13778 15545 21486 12043 19277 21564 21479 16204 12021 19421 16152 19635\n",
      " 21192 21702 15552 21591 19278 12217 21561 19881 12225 15551 21592 12213\n",
      " 21196  7694 15546 21562 21195 15549 15539 20510 21197 12234 21482 21274\n",
      " 20012 15538 21626 19739 20129 21589 15547 21590 15548 11996  6400  9805\n",
      " 14142 21565  7693 21571 21570 19276 21229 12229 19279 13783 16153 21273\n",
      " 15827 21480 12007 12235 21560  6402 21567  6401 13777 12230 21557 19251\n",
      " 21647 19775 20476 21664 19984  8330 21137 19418 19776 19986 19591 21157\n",
      " 17566 18861  5296  5299 16688 17017 19493 20285 21153 17016 21563 20277\n",
      " 21159 19284 20287 14198 19595 20262 21135 19998 20000 19634 21558 21555\n",
      " 20543 14136  8434 18403  8996 21369 20001 13781 21154 19982 12175 21556\n",
      " 12201 19593 21631 12202  7023 14137  7697 12034 14141 12212 14140 15386\n",
      " 12218 19999  9437 16154 21156 18859 21155  9463 19370 20626 20477 12206\n",
      " 20002 12211 19592 21161 11193 21559 20541 21569 19597 19745 19176 21193\n",
      " 21139 19637 10289 19594 19631 20542 21136 21138 20003 12200 17209 17170\n",
      " 17171 17670 17062 17671 12222 17208 19749 19748  9015 12227 21634 15830\n",
      " 11190 17786 19368 19639 17234  9016 21204 12199 12208 21613 20478 19632\n",
      " 12210 12209 10897 14202 21158 11192 11191 12223 19638 20509 21653 21654\n",
      " 21667 21686 21652 21690 21666 11144 21363 18321 21655 18324 21669 12216\n",
      " 12207 19641  8334 18405 10895 21205   451 18406 21244 15384 21160 20540\n",
      " 12215 21668 12233 21670 12219 12228 12224 18319  8437 21620 18156 12220\n",
      " 10898 21671 17444 21635 21672  7696 12205 18404 12214 15388 12237 21294\n",
      " 21093 21673  9335  8395 19146 20284 11142 11143 15387 19143   455 20473\n",
      "   376 15385 21601 20294 21188 21602 21232 21715 20290 21295 19178 21250\n",
      " 16932 21240  8392 21249 21241 21662 21629 20292 21726 21741 21725 21732\n",
      " 21731 21738 21727  7651 20291 18951 10896 21751 21761 20388 21758 20386\n",
      " 21739 21759 20384 21743 20389 21755 21746 21762 20387 21760 21724 21747\n",
      " 21706 21757 20385 21763 21745 21752 21750 21737 21723 21744 21734 21748\n",
      " 21730 21749 21729 21733 18950 18860 21663 21753 20286 11145 21775 21776\n",
      " 21716 21777 21778 11323 21742 21720 21298 17027 21303 21774 11325 21717\n",
      " 21783 21779 21780 21781 21782 21606 21719 21230 21707 21299 17151 21301\n",
      " 21317 21790 21793 21245 21789 21791 17157 17156 21792 18986 21333 21332\n",
      " 21331 21795 21319 21794 21628 20150 15840 21318 18985 21722 16934 15837\n",
      " 15841 21247 15839 21721 21246  9014 15847 20636 15838 15842 21619 21623\n",
      " 21625 21616 21618 21621 21617 21630 21632 21627 15833 21624 19633 21239\n",
      " 21203 21708 11188 15845 10532 10536 10535 21597 21596 15513 11189]\n",
      "(779,) 4042896\n"
     ]
    },
    {
     "name": "stdout",
     "output_type": "stream",
     "text": [
      "C15 [ 320  300  216  728  120 1024  480  768]\n",
      "(8,) 4042896\n",
      "C16 [  50  250   36  480   90   20  768  320 1024]\n",
      "(9,) 4042896\n",
      "C17 [1722 2161 1899 2333 2374 2496 1974 2227 2371 2043  571 2434 2493 2480 1882\n",
      " 2158 2271 2446 1800 1934 1863 1887 1994  423 2495 2153 2253 2264 1996  898\n",
      " 1872 2036 2162  576 2312 1993 2481  572 1973 1921 2331 2449 1740 1926 1955\n",
      " 2307 1092  901 1637 1784 1895  112 2351  122 2323 2424 2497 2083 2270 2295\n",
      " 1248 1447 2060  196 2306 1780 2372  547  906 2283 2260 1272 2263 1752 2292\n",
      " 1991 2339 2039  394 2285 2325 2427 1401 2316 1835 2154  937 2286  613  153\n",
      " 2390 2284 2443 2485  544 2467 1528 1769 2303 2278  549 2465  768 2394 2478\n",
      "  686 2471 2304 1698 2279 1932  178 2346 1685 2483 2476 1255 2225 2438 2425\n",
      " 1884  827 2459 2397 1507 2250 2482  550 2201 2487 2229 2348 2492  761 2418\n",
      " 2242 2421  479 1873 2420 2281 2206 1515 2101 1253 2218 1149 2187 1008 2282\n",
      " 1965 1960 1939  832 1972 2428 1107 1174 2489 2494 1141 2084 2412  873 2181\n",
      " 2479 2500 2441 1903 2436 2491 2502  644 2505 2338 2503 2504 2498 2508 2509\n",
      " 2501 2447 2510 2451 2513 2512 2455 1741 2439 2375 1042 1694]\n",
      "(192,) 4042896\n",
      "C18 [0 3 2 1]\n",
      "(4,) 4042896\n",
      "C19 [  35  431   39  167  687  551  163  297  291  171  427  303   41   47 1063\n",
      "  943 1835 1315  161  175  681 1319   43  169  683 1711  813 1451  559  423\n",
      "  801  673 1327   33  679 1071  425  547   45  299  295   34  553 1447]\n",
      "(44,) 4042896\n",
      "C20 [    -1 100084 100077 100191 100019 100148 100088 100083 100217 100111\n",
      " 100193 100034 100075 100228 100131 100188 100202 100021 100200 100050\n",
      " 100063 100000 100081 100057 100003 100130 100076 100079 100233 100128\n",
      " 100106 100060 100002 100074 100020 100156 100046 100005 100105 100013\n",
      " 100028 100215 100119 100173 100210 100221 100161 100189 100048 100151\n",
      " 100190 100049 100062 100194 100241 100248 100224 100026 100103 100205\n",
      " 100160 100212 100041 100070 100138 100185 100225 100065 100037 100029\n",
      " 100199 100101 100094 100162 100171 100192 100095 100052 100087 100086\n",
      " 100126 100097 100072 100117 100170 100012 100107 100166 100183 100025\n",
      " 100163 100206 100155 100176 100068 100039 100168 100055 100112 100096\n",
      " 100022 100054 100150 100122 100149 100001 100177 100141 100213 100043\n",
      " 100010 100139 100137 100053 100143 100056 100165 100099 100061 100172\n",
      " 100040 100123 100024 100051 100133 100091 100071 100124 100195 100004\n",
      " 100090 100152 100058 100016 100229 100093 100064 100108 100073 100144\n",
      " 100031 100032 100033 100121 100153 100182 100181 100186 100169 100246\n",
      " 100082 100109 100113 100179 100078 100135 100244 100178 100114 100059\n",
      " 100132 100157 100175 100098 100100 100209 100134 100027]\n",
      "(168,) 4042896\n",
      "C21 [ 79 157 117  23  33  48  46  32  61  13 156  16  52  71  91 100  95 101\n",
      "  15  42 111  82  70  94  20  68  93 116  85  43  51 195  69  17 112  90\n",
      " 194 221]\n",
      "(38,) 4042896\n"
     ]
    }
   ],
   "source": [
    "# check unique values\n",
    "for key in data_raw.columns:\n",
    "#     clear_output()\n",
    "    temp = data_raw[key].unique()\n",
    "    print(key, temp)\n",
    "    print(temp.shape, data_raw.shape[0])\n",
    "#     if input()=='Q':\n",
    "#         break"
   ]
  },
  {
   "cell_type": "code",
   "execution_count": 7,
   "metadata": {
    "collapsed": true
   },
   "outputs": [
    {
     "name": "stdout",
     "output_type": "stream",
     "text": [
      "site_category\n",
      "110ab22d     0.000025\n",
      "74073276     0.000049\n",
      "9ccfa2ea     0.000173\n",
      "8fd0aea4     0.001311\n",
      "bcf865d9     0.001534\n",
      "5378d028     0.001558\n",
      "42a36e14     0.003067\n",
      "e787de0e     0.008484\n",
      "a818d37a     0.034357\n",
      "dedf689d     0.035074\n",
      "c0dd3be3     0.072695\n",
      "70fb0e29     0.131119\n",
      "72722551     0.195355\n",
      "0569f928     0.199585\n",
      "76b2941d     0.320488\n",
      "75fa27f6     0.321329\n",
      "335d28a8     0.462416\n",
      "f66779e6     0.932426\n",
      "3e814130     6.877842\n",
      "28905ebd    21.842412\n",
      "f028772b    28.041335\n",
      "50e219e0    40.517367\n",
      "Name: site_category, dtype: float64\n",
      "Q\n"
     ]
    }
   ],
   "source": [
    "# check distributions\n",
    "for key in data_raw.columns:\n",
    "    if data_raw[key].nunique() < 50:\n",
    "        clear_output()\n",
    "        print(key)\n",
    "        print((data_raw[key].value_counts()/data_raw[key].value_counts().sum()).sort_values()*100)\n",
    "        task = input()\n",
    "        if task==\"Q\":\n",
    "            break    \n"
   ]
  },
  {
   "cell_type": "code",
   "execution_count": 73,
   "metadata": {},
   "outputs": [
    {
     "ename": "KeyboardInterrupt",
     "evalue": "",
     "output_type": "error",
     "traceback": [
      "\u001b[1;31m---------------------------------------------------------------------------\u001b[0m",
      "\u001b[1;31mKeyboardInterrupt\u001b[0m                         Traceback (most recent call last)",
      "\u001b[1;32m<ipython-input-73-72a9234eac11>\u001b[0m in \u001b[0;36m<module>\u001b[1;34m()\u001b[0m\n\u001b[0;32m      5\u001b[0m     \u001b[0mclear_output\u001b[0m\u001b[1;33m(\u001b[0m\u001b[1;33m)\u001b[0m\u001b[1;33m\u001b[0m\u001b[0m\n\u001b[0;32m      6\u001b[0m     \u001b[1;32mif\u001b[0m \u001b[0mtask\u001b[0m\u001b[1;33m==\u001b[0m\u001b[1;34m\"p\"\u001b[0m\u001b[1;33m:\u001b[0m\u001b[1;33m\u001b[0m\u001b[0m\n\u001b[1;32m----> 7\u001b[1;33m         \u001b[0mdata_raw\u001b[0m\u001b[1;33m[\u001b[0m\u001b[0mkey\u001b[0m\u001b[1;33m]\u001b[0m\u001b[1;33m.\u001b[0m\u001b[0mhist\u001b[0m\u001b[1;33m(\u001b[0m\u001b[1;33m)\u001b[0m\u001b[1;33m\u001b[0m\u001b[0m\n\u001b[0m\u001b[0;32m      8\u001b[0m         \u001b[0mplt\u001b[0m\u001b[1;33m.\u001b[0m\u001b[0mshow\u001b[0m\u001b[1;33m(\u001b[0m\u001b[1;33m)\u001b[0m\u001b[1;33m\u001b[0m\u001b[0m\n\u001b[0;32m      9\u001b[0m     \u001b[1;32melif\u001b[0m \u001b[0mtask\u001b[0m\u001b[1;33m==\u001b[0m\u001b[1;34m\"Q\"\u001b[0m\u001b[1;33m:\u001b[0m\u001b[1;33m\u001b[0m\u001b[0m\n",
      "\u001b[1;32md:\\Anaconda3\\lib\\site-packages\\pandas\\plotting\\_core.py\u001b[0m in \u001b[0;36mhist_series\u001b[1;34m(self, by, ax, grid, xlabelsize, xrot, ylabelsize, yrot, figsize, bins, **kwds)\u001b[0m\n\u001b[0;32m   2242\u001b[0m         \u001b[0mvalues\u001b[0m \u001b[1;33m=\u001b[0m \u001b[0mself\u001b[0m\u001b[1;33m.\u001b[0m\u001b[0mdropna\u001b[0m\u001b[1;33m(\u001b[0m\u001b[1;33m)\u001b[0m\u001b[1;33m.\u001b[0m\u001b[0mvalues\u001b[0m\u001b[1;33m\u001b[0m\u001b[0m\n\u001b[0;32m   2243\u001b[0m \u001b[1;33m\u001b[0m\u001b[0m\n\u001b[1;32m-> 2244\u001b[1;33m         \u001b[0max\u001b[0m\u001b[1;33m.\u001b[0m\u001b[0mhist\u001b[0m\u001b[1;33m(\u001b[0m\u001b[0mvalues\u001b[0m\u001b[1;33m,\u001b[0m \u001b[0mbins\u001b[0m\u001b[1;33m=\u001b[0m\u001b[0mbins\u001b[0m\u001b[1;33m,\u001b[0m \u001b[1;33m**\u001b[0m\u001b[0mkwds\u001b[0m\u001b[1;33m)\u001b[0m\u001b[1;33m\u001b[0m\u001b[0m\n\u001b[0m\u001b[0;32m   2245\u001b[0m         \u001b[0max\u001b[0m\u001b[1;33m.\u001b[0m\u001b[0mgrid\u001b[0m\u001b[1;33m(\u001b[0m\u001b[0mgrid\u001b[0m\u001b[1;33m)\u001b[0m\u001b[1;33m\u001b[0m\u001b[0m\n\u001b[0;32m   2246\u001b[0m         \u001b[0maxes\u001b[0m \u001b[1;33m=\u001b[0m \u001b[0mnp\u001b[0m\u001b[1;33m.\u001b[0m\u001b[0marray\u001b[0m\u001b[1;33m(\u001b[0m\u001b[1;33m[\u001b[0m\u001b[0max\u001b[0m\u001b[1;33m]\u001b[0m\u001b[1;33m)\u001b[0m\u001b[1;33m\u001b[0m\u001b[0m\n",
      "\u001b[1;32md:\\Anaconda3\\lib\\site-packages\\matplotlib\\__init__.py\u001b[0m in \u001b[0;36minner\u001b[1;34m(ax, *args, **kwargs)\u001b[0m\n\u001b[0;32m   1708\u001b[0m                     warnings.warn(msg % (label_namer, func.__name__),\n\u001b[0;32m   1709\u001b[0m                                   RuntimeWarning, stacklevel=2)\n\u001b[1;32m-> 1710\u001b[1;33m             \u001b[1;32mreturn\u001b[0m \u001b[0mfunc\u001b[0m\u001b[1;33m(\u001b[0m\u001b[0max\u001b[0m\u001b[1;33m,\u001b[0m \u001b[1;33m*\u001b[0m\u001b[0margs\u001b[0m\u001b[1;33m,\u001b[0m \u001b[1;33m**\u001b[0m\u001b[0mkwargs\u001b[0m\u001b[1;33m)\u001b[0m\u001b[1;33m\u001b[0m\u001b[0m\n\u001b[0m\u001b[0;32m   1711\u001b[0m         \u001b[0mpre_doc\u001b[0m \u001b[1;33m=\u001b[0m \u001b[0minner\u001b[0m\u001b[1;33m.\u001b[0m\u001b[0m__doc__\u001b[0m\u001b[1;33m\u001b[0m\u001b[0m\n\u001b[0;32m   1712\u001b[0m         \u001b[1;32mif\u001b[0m \u001b[0mpre_doc\u001b[0m \u001b[1;32mis\u001b[0m \u001b[1;32mNone\u001b[0m\u001b[1;33m:\u001b[0m\u001b[1;33m\u001b[0m\u001b[0m\n",
      "\u001b[1;32md:\\Anaconda3\\lib\\site-packages\\matplotlib\\axes\\_axes.py\u001b[0m in \u001b[0;36mhist\u001b[1;34m(***failed resolving arguments***)\u001b[0m\n\u001b[0;32m   6145\u001b[0m         \u001b[1;31m# process the unit information\u001b[0m\u001b[1;33m\u001b[0m\u001b[1;33m\u001b[0m\u001b[0m\n\u001b[0;32m   6146\u001b[0m         \u001b[0mself\u001b[0m\u001b[1;33m.\u001b[0m\u001b[0m_process_unit_info\u001b[0m\u001b[1;33m(\u001b[0m\u001b[0mxdata\u001b[0m\u001b[1;33m=\u001b[0m\u001b[0mx\u001b[0m\u001b[1;33m,\u001b[0m \u001b[0mkwargs\u001b[0m\u001b[1;33m=\u001b[0m\u001b[0mkwargs\u001b[0m\u001b[1;33m)\u001b[0m\u001b[1;33m\u001b[0m\u001b[0m\n\u001b[1;32m-> 6147\u001b[1;33m         \u001b[0mx\u001b[0m \u001b[1;33m=\u001b[0m \u001b[0mself\u001b[0m\u001b[1;33m.\u001b[0m\u001b[0mconvert_xunits\u001b[0m\u001b[1;33m(\u001b[0m\u001b[0mx\u001b[0m\u001b[1;33m)\u001b[0m\u001b[1;33m\u001b[0m\u001b[0m\n\u001b[0m\u001b[0;32m   6148\u001b[0m         \u001b[1;32mif\u001b[0m \u001b[0mbin_range\u001b[0m \u001b[1;32mis\u001b[0m \u001b[1;32mnot\u001b[0m \u001b[1;32mNone\u001b[0m\u001b[1;33m:\u001b[0m\u001b[1;33m\u001b[0m\u001b[0m\n\u001b[0;32m   6149\u001b[0m             \u001b[0mbin_range\u001b[0m \u001b[1;33m=\u001b[0m \u001b[0mself\u001b[0m\u001b[1;33m.\u001b[0m\u001b[0mconvert_xunits\u001b[0m\u001b[1;33m(\u001b[0m\u001b[0mbin_range\u001b[0m\u001b[1;33m)\u001b[0m\u001b[1;33m\u001b[0m\u001b[0m\n",
      "\u001b[1;32md:\\Anaconda3\\lib\\site-packages\\matplotlib\\artist.py\u001b[0m in \u001b[0;36mconvert_xunits\u001b[1;34m(self, x)\u001b[0m\n\u001b[0;32m    189\u001b[0m         \u001b[1;32mif\u001b[0m \u001b[0max\u001b[0m \u001b[1;32mis\u001b[0m \u001b[1;32mNone\u001b[0m \u001b[1;32mor\u001b[0m \u001b[0max\u001b[0m\u001b[1;33m.\u001b[0m\u001b[0mxaxis\u001b[0m \u001b[1;32mis\u001b[0m \u001b[1;32mNone\u001b[0m\u001b[1;33m:\u001b[0m\u001b[1;33m\u001b[0m\u001b[0m\n\u001b[0;32m    190\u001b[0m             \u001b[1;32mreturn\u001b[0m \u001b[0mx\u001b[0m\u001b[1;33m\u001b[0m\u001b[0m\n\u001b[1;32m--> 191\u001b[1;33m         \u001b[1;32mreturn\u001b[0m \u001b[0max\u001b[0m\u001b[1;33m.\u001b[0m\u001b[0mxaxis\u001b[0m\u001b[1;33m.\u001b[0m\u001b[0mconvert_units\u001b[0m\u001b[1;33m(\u001b[0m\u001b[0mx\u001b[0m\u001b[1;33m)\u001b[0m\u001b[1;33m\u001b[0m\u001b[0m\n\u001b[0m\u001b[0;32m    192\u001b[0m \u001b[1;33m\u001b[0m\u001b[0m\n\u001b[0;32m    193\u001b[0m     \u001b[1;32mdef\u001b[0m \u001b[0mconvert_yunits\u001b[0m\u001b[1;33m(\u001b[0m\u001b[0mself\u001b[0m\u001b[1;33m,\u001b[0m \u001b[0my\u001b[0m\u001b[1;33m)\u001b[0m\u001b[1;33m:\u001b[0m\u001b[1;33m\u001b[0m\u001b[0m\n",
      "\u001b[1;32md:\\Anaconda3\\lib\\site-packages\\matplotlib\\axis.py\u001b[0m in \u001b[0;36mconvert_units\u001b[1;34m(self, x)\u001b[0m\n\u001b[0;32m   1489\u001b[0m             \u001b[1;32mreturn\u001b[0m \u001b[0mx\u001b[0m\u001b[1;33m\u001b[0m\u001b[0m\n\u001b[0;32m   1490\u001b[0m \u001b[1;33m\u001b[0m\u001b[0m\n\u001b[1;32m-> 1491\u001b[1;33m         \u001b[0mret\u001b[0m \u001b[1;33m=\u001b[0m \u001b[0mself\u001b[0m\u001b[1;33m.\u001b[0m\u001b[0mconverter\u001b[0m\u001b[1;33m.\u001b[0m\u001b[0mconvert\u001b[0m\u001b[1;33m(\u001b[0m\u001b[0mx\u001b[0m\u001b[1;33m,\u001b[0m \u001b[0mself\u001b[0m\u001b[1;33m.\u001b[0m\u001b[0munits\u001b[0m\u001b[1;33m,\u001b[0m \u001b[0mself\u001b[0m\u001b[1;33m)\u001b[0m\u001b[1;33m\u001b[0m\u001b[0m\n\u001b[0m\u001b[0;32m   1492\u001b[0m         \u001b[1;32mreturn\u001b[0m \u001b[0mret\u001b[0m\u001b[1;33m\u001b[0m\u001b[0m\n\u001b[0;32m   1493\u001b[0m \u001b[1;33m\u001b[0m\u001b[0m\n",
      "\u001b[1;32md:\\Anaconda3\\lib\\site-packages\\matplotlib\\category.py\u001b[0m in \u001b[0;36mconvert\u001b[1;34m(value, unit, axis)\u001b[0m\n\u001b[0;32m     49\u001b[0m \u001b[1;33m\u001b[0m\u001b[0m\n\u001b[0;32m     50\u001b[0m         \u001b[1;32mfor\u001b[0m \u001b[0mlab\u001b[0m\u001b[1;33m,\u001b[0m \u001b[0mloc\u001b[0m \u001b[1;32min\u001b[0m \u001b[0mvmap\u001b[0m\u001b[1;33m.\u001b[0m\u001b[0mitems\u001b[0m\u001b[1;33m(\u001b[0m\u001b[1;33m)\u001b[0m\u001b[1;33m:\u001b[0m\u001b[1;33m\u001b[0m\u001b[0m\n\u001b[1;32m---> 51\u001b[1;33m             \u001b[0mvals\u001b[0m\u001b[1;33m[\u001b[0m\u001b[0mvals\u001b[0m \u001b[1;33m==\u001b[0m \u001b[0mlab\u001b[0m\u001b[1;33m]\u001b[0m \u001b[1;33m=\u001b[0m \u001b[0mloc\u001b[0m\u001b[1;33m\u001b[0m\u001b[0m\n\u001b[0m\u001b[0;32m     52\u001b[0m \u001b[1;33m\u001b[0m\u001b[0m\n\u001b[0;32m     53\u001b[0m         \u001b[1;32mreturn\u001b[0m \u001b[0mvals\u001b[0m\u001b[1;33m.\u001b[0m\u001b[0mastype\u001b[0m\u001b[1;33m(\u001b[0m\u001b[1;34m'float'\u001b[0m\u001b[1;33m)\u001b[0m\u001b[1;33m\u001b[0m\u001b[0m\n",
      "\u001b[1;31mKeyboardInterrupt\u001b[0m: "
     ]
    },
    {
     "data": {
      "image/png": "[encoded data removed]",
      "text/plain": [
       "<matplotlib.figure.Figure at 0x191ba156ef0>"
      ]
     },
     "metadata": {},
     "output_type": "display_data"
    }
   ],
   "source": [
    "# check distributions\n",
    "for key in data_raw.columns:\n",
    "    print(key, data_raw[key].nunique())\n",
    "    task = input()\n",
    "    clear_output()\n",
    "    if task==\"p\":\n",
    "        data_raw[key].hist()\n",
    "        plt.show()\n",
    "    elif task==\"Q\":\n",
    "        break    "
   ]
  },
  {
   "cell_type": "code",
   "execution_count": 60,
   "metadata": {},
   "outputs": [
    {
     "name": "stdout",
     "output_type": "stream",
     "text": [
      "C21 C21\n"
     ]
    }
   ],
   "source": [
    "method = \"cramers_v\"\n",
    "cols = ['time_hour', 'click', 'C1', 'banner_pos', 'site_id', 'site_domain','site_category', \n",
    "        'app_id', 'app_domain','app_category', 'device_type', 'device_conn_type',\n",
    "        'C15', 'C16', 'C17','C18', 'C19', 'C20','C21']\n",
    "temp = categorical_association(data_raw.loc[:,cols], method)"
   ]
  },
  {
   "cell_type": "code",
   "execution_count": 61,
   "metadata": {},
   "outputs": [
    {
     "data": {
      "image/png": "[encoded data removed]",
      "text/plain": [
       "<matplotlib.figure.Figure at 0x191b32e7550>"
      ]
     },
     "metadata": {},
     "output_type": "display_data"
    }
   ],
   "source": [
    "from matplotlib import cm as cm\n",
    "\n",
    "fig = plt.figure(figsize=(14,14))\n",
    "ax1 = fig.add_subplot(111)\n",
    "cmap = cm.get_cmap('viridis')\n",
    "cax = ax1.imshow(temp, interpolation=\"nearest\", cmap=cmap)\n",
    "ax1.grid(True)\n",
    "plt.title(\"Cramer's V\")\n",
    "labels=cols#[col for col in data_raw.columns]\n",
    "ax1.set_xticks(np.arange(len(labels)))\n",
    "ax1.set_xticklabels(labels,fontsize=12,rotation='vertical')\n",
    "ax1.set_yticks(np.arange(len(labels)))\n",
    "ax1.set_yticklabels(labels,fontsize=12)\n",
    "# Add colorbar, make sure to specify tick locations to match desired ticklabels\n",
    "fig.colorbar(cax)\n",
    "plt.savefig(\"cramer.png\")\n",
    "plt.show()"
   ]
  },
  {
   "cell_type": "code",
   "execution_count": 79,
   "metadata": {},
   "outputs": [],
   "source": [
    "data_raw[\"time_hour\"] = data_raw.hour.map(lambda x: x%100).astype(\"int\")\n",
    "# convert to categories\n",
    "for key in data_raw.columns:\n",
    "    if key not in [\"hour\", ]:\n",
    "        data_raw[key] = data_raw[key].astype(\"category\").cat.codes"
   ]
  },
  {
   "cell_type": "markdown",
   "metadata": {},
   "source": [
    "# First try\n",
    "\n",
    "- Linear model \n",
    "- hand feature selection \n",
    "- one-hot encoding"
   ]
  },
  {
   "cell_type": "markdown",
   "metadata": {},
   "source": [
    "### Model"
   ]
  },
  {
   "cell_type": "code",
   "execution_count": 95,
   "metadata": {},
   "outputs": [
    {
     "name": "stdout",
     "output_type": "stream",
     "text": [
      "Index(['C1', 'banner_pos', 'site_category', 'app_category', 'device_type',\n",
      "       'device_conn_type', 'C15', 'C18', 'click'],\n",
      "      dtype='object')\n"
     ]
    },
    {
     "data": {
      "text/plain": [
       "0.17393769218896554"
      ]
     },
     "execution_count": 95,
     "metadata": {},
     "output_type": "execute_result"
    }
   ],
   "source": [
    "print(data.columns)\n",
    "data.click.mean()"
   ]
  },
  {
   "cell_type": "code",
   "execution_count": 159,
   "metadata": {},
   "outputs": [],
   "source": [
    "# Implement initial model\n",
    "# subset columns for one-hot encoding\n",
    "cols = ['C1', 'banner_pos', 'site_category', 'app_category', 'device_type', 'device_conn_type',\n",
    "        'C15','C18', \n",
    "        'click']\n",
    "data = data_raw.loc[:, cols].copy()\n",
    "\n",
    "# Train test split 80 t0 20\n",
    "\n",
    "sample_size = data.shape[0]\n",
    "train = data.iloc[:int(np.floor(sample_size*.8)),:].copy()\n",
    "# validation = data.iloc[int(np.floor(sample_size*.6)):int(np.floor(sample_size*.8)),:].copy()\n",
    "test = data.iloc[int(np.floor(sample_size*.8)): ,:].copy()\n",
    "\n",
    "# Shuffle train data\n",
    "train = shuffle(train)\n",
    "\n",
    "x_train = train.iloc[:, :-1]\n",
    "y_train = train.iloc[:, -1]\n",
    "# x_val = validation.iloc[:, :-1]\n",
    "# y_val = validation.iloc[:, -1]\n",
    "x_test = test.iloc[:, :-1]\n",
    "y_test = test.iloc[:, -1]\n",
    "\n",
    "# One-Hot encode\n",
    "enc = OneHotEncoder()\n",
    "x_train = enc.fit_transform(x_train)\n",
    "x_test = enc.transform(x_test)"
   ]
  },
  {
   "cell_type": "code",
   "execution_count": 132,
   "metadata": {},
   "outputs": [
    {
     "name": "stderr",
     "output_type": "stream",
     "text": [
      "d:\\Anaconda3\\lib\\site-packages\\ipykernel_launcher.py:5: DeprecationWarning: object of type <class 'float'> cannot be safely interpreted as an integer.\n",
      "  \"\"\"\n",
      "d:\\Anaconda3\\lib\\site-packages\\sklearn\\linear_model\\stochastic_gradient.py:128: FutureWarning: max_iter and tol parameters have been added in <class 'sklearn.linear_model.stochastic_gradient.SGDClassifier'> in 0.19. If both are left unset, they default to max_iter=5 and tol=None. If tol is not None, max_iter defaults to max_iter=1000. From 0.21, default max_iter will be 1000, and default tol will be 1e-3.\n",
      "  \"and default tol will be 1e-3.\" % type(self), FutureWarning)\n"
     ]
    }
   ],
   "source": [
    "# Logisic Regression with log_loss\n",
    "clf = SGDClassifier(loss='log', penalty='elasticnet', n_jobs=1)\n",
    "\n",
    "param_dist = {\"alpha\":  np.logspace(-7, 0, 1e4),\n",
    "              \"l1_ratio\": np.linspace(0, 1, 1e5)\n",
    "             }\n",
    "\n",
    "# run randomized search\n",
    "log_score = make_scorer(log_loss, greater_is_better=False, needs_proba=True)\n",
    "            \n",
    "n_iter_search = 48\n",
    "random_search = RandomizedSearchCV(clf, param_distributions=param_dist, n_jobs=4,\n",
    "                                   scoring = log_score, n_iter=n_iter_search)\n",
    "\n",
    "random_search.fit(X=x_train, y=y_train);"
   ]
  },
  {
   "cell_type": "code",
   "execution_count": 133,
   "metadata": {},
   "outputs": [
    {
     "data": {
      "text/plain": [
       "(array([[663964, 143925],\n",
       "        [   389,    302]], dtype=int64),\n",
       " 0.0041678742461253955,\n",
       " 6.164565112561875,\n",
       " 0.00085458458037547308)"
      ]
     },
     "execution_count": 133,
     "metadata": {},
     "output_type": "execute_result"
    }
   ],
   "source": [
    "# diagnostics: log_loss, error matrix, probability of error by different categories\n",
    "preds = random_search.predict(X=x_test)\n",
    "# Confusion matrix\n",
    "confusion_matrix(preds, y_test), f1_score(preds, y_test), log_loss(preds, y_test), np.mean(preds)"
   ]
  },
  {
   "cell_type": "code",
   "execution_count": 134,
   "metadata": {},
   "outputs": [
    {
     "data": {
      "image/png": "[encoded data removed]",
      "text/plain": [
       "<matplotlib.figure.Figure at 0x191c89fee10>"
      ]
     },
     "metadata": {},
     "output_type": "display_data"
    }
   ],
   "source": [
    "# ROC\n",
    "y_score = random_search.decision_function(x_test)\n",
    "\n",
    "fpr, tpr, _ = roc_curve(y_test, y_score)\n",
    "roc_auc = auc(fpr, tpr)\n",
    "\n",
    "lw=2\n",
    "plt.figure()\n",
    "plt.plot(fpr, tpr, color='darkorange',\n",
    "         lw=lw, label='ROC curve (area = %0.2f)' % roc_auc)\n",
    "plt.plot([0, 1], [0, 1], color='navy', lw=lw, linestyle='--')\n",
    "plt.xlim([0.0, 1.0])\n",
    "plt.ylim([0.0, 1.05])\n",
    "plt.xlabel('False Positive Rate')\n",
    "plt.ylabel('True Positive Rate')\n",
    "plt.title('Receiver operating characteristic example')\n",
    "plt.legend(loc=\"lower right\")\n",
    "plt.show()"
   ]
  },
  {
   "cell_type": "markdown",
   "metadata": {},
   "source": [
    "# Second try\n",
    "\n",
    "- select top 95% of categories for each feature\n",
    "- Linear model\n",
    "- One-hot-all features "
   ]
  },
  {
   "cell_type": "code",
   "execution_count": 197,
   "metadata": {},
   "outputs": [],
   "source": [
    "# Select test train data\n",
    "data = data_raw.copy()\n",
    "data.drop(['id', 'hour', 'device_ip'], axis=1, inplace=True)\n",
    "\n",
    "# remove low freq categories\n",
    "for col in data.columns:\n",
    "    temp = data[col].value_counts()\n",
    "    ind = (data[col].value_counts()/data[col].value_counts().sum())<.05\n",
    "    temp[ind] = max(temp.index) + 1\n",
    "    temp[~ind] = temp[~ind].index\n",
    "    temp\n",
    "    data[col] = data[col].map(temp)\n",
    "\n",
    "# Train test split 80 t0 20\n",
    "sample_size = data.shape[0]\n",
    "train = data.iloc[:int(np.floor(sample_size*.8)),:].copy()\n",
    "test = data.iloc[int(np.floor(sample_size*.8)): ,:].copy()\n",
    "\n",
    "# Shuffle train data\n",
    "train = shuffle(train)\n",
    "\n",
    "x_train = train.iloc[:, 1:]\n",
    "y_train = train.iloc[:, 0]\n",
    "x_test = test.iloc[:, 1:]\n",
    "y_test = test.iloc[:, 0]"
   ]
  },
  {
   "cell_type": "code",
   "execution_count": 198,
   "metadata": {},
   "outputs": [],
   "source": [
    "# One-Hot encode\n",
    "enc = OneHotEncoder()\n",
    "x_train = enc.fit_transform(x_train)\n",
    "x_test = enc.transform(x_test)"
   ]
  },
  {
   "cell_type": "code",
   "execution_count": 200,
   "metadata": {},
   "outputs": [
    {
     "name": "stderr",
     "output_type": "stream",
     "text": [
      "d:\\Anaconda3\\lib\\site-packages\\ipykernel_launcher.py:5: DeprecationWarning: object of type <class 'float'> cannot be safely interpreted as an integer.\n",
      "  \"\"\"\n",
      "d:\\Anaconda3\\lib\\site-packages\\sklearn\\linear_model\\stochastic_gradient.py:128: FutureWarning: max_iter and tol parameters have been added in <class 'sklearn.linear_model.stochastic_gradient.SGDClassifier'> in 0.19. If both are left unset, they default to max_iter=5 and tol=None. If tol is not None, max_iter defaults to max_iter=1000. From 0.21, default max_iter will be 1000, and default tol will be 1e-3.\n",
      "  \"and default tol will be 1e-3.\" % type(self), FutureWarning)\n"
     ]
    }
   ],
   "source": [
    "# Logisic Regression with log_loss\n",
    "clf = SGDClassifier(loss='log', penalty='elasticnet', n_jobs=1)\n",
    "\n",
    "param_dist = {\"alpha\":  np.logspace(-7, 0, 1e4),\n",
    "              \"l1_ratio\": np.linspace(0, 1, 1e5)\n",
    "             }\n",
    "\n",
    "# run randomized search\n",
    "log_score = make_scorer(log_loss, greater_is_better=False, needs_proba=True)\n",
    "            \n",
    "n_iter_search = 24\n",
    "random_search = RandomizedSearchCV(clf, param_distributions=param_dist, n_jobs=4,\n",
    "                                   scoring = log_score, n_iter=n_iter_search)\n",
    "\n",
    "random_search.fit(X=x_train, y=y_train);"
   ]
  },
  {
   "cell_type": "code",
   "execution_count": 201,
   "metadata": {},
   "outputs": [
    {
     "data": {
      "text/plain": [
       "(array([[662478, 142738],\n",
       "        [  1875,   1489]], dtype=int64),\n",
       " 0.020177382089693819,\n",
       " 6.1773358279146331,\n",
       " 0.0041603799253011452)"
      ]
     },
     "execution_count": 201,
     "metadata": {},
     "output_type": "execute_result"
    }
   ],
   "source": [
    "# diagnostics: log_loss, error matrix, probability of error by different categories\n",
    "preds = random_search.predict(X=x_test)\n",
    "# Confusion matrix\n",
    "confusion_matrix(preds, y_test), f1_score(preds, y_test), log_loss(preds, y_test), np.mean(preds)"
   ]
  },
  {
   "cell_type": "code",
   "execution_count": 202,
   "metadata": {},
   "outputs": [
    {
     "data": {
      "image/png": "[encoded data removed]",
      "text/plain": [
       "<matplotlib.figure.Figure at 0x191c85c8d30>"
      ]
     },
     "metadata": {},
     "output_type": "display_data"
    }
   ],
   "source": [
    "# ROC\n",
    "y_score = random_search.decision_function(x_test)\n",
    "\n",
    "fpr, tpr, _ = roc_curve(y_test, y_score)\n",
    "roc_auc = auc(fpr, tpr)\n",
    "\n",
    "lw=2\n",
    "plt.figure()\n",
    "plt.plot(fpr, tpr, color='darkorange',\n",
    "         lw=lw, label='ROC curve (area = %0.2f)' % roc_auc)\n",
    "plt.plot([0, 1], [0, 1], color='navy', lw=lw, linestyle='--')\n",
    "plt.xlim([0.0, 1.0])\n",
    "plt.ylim([0.0, 1.05])\n",
    "plt.xlabel('False Positive Rate')\n",
    "plt.ylabel('True Positive Rate')\n",
    "plt.title('Receiver operating characteristic example')\n",
    "plt.legend(loc=\"lower right\")\n",
    "plt.show()"
   ]
  },
  {
   "cell_type": "markdown",
   "metadata": {},
   "source": [
    "# Third try\n",
    "- 95% categories\n",
    "- One hot encoding\n",
    "- choose 10 features\n",
    "- Use RBF kernel\n",
    "- Linear regression"
   ]
  },
  {
   "cell_type": "code",
   "execution_count": 204,
   "metadata": {
    "collapsed": true
   },
   "outputs": [],
   "source": [
    "# Select test train data\n",
    "data = data_raw.copy()\n",
    "data.drop(['id', 'hour', 'device_ip'], axis=1, inplace=True)\n",
    "\n",
    "# remove low freq categories\n",
    "for col in data.columns:\n",
    "    temp = data[col].value_counts()\n",
    "    ind = (data[col].value_counts()/data[col].value_counts().sum())<.05\n",
    "    temp[ind] = max(temp.index) + 1\n",
    "    temp[~ind] = temp[~ind].index\n",
    "    temp\n",
    "    data[col] = data[col].map(temp)\n",
    "\n",
    "# Train test split 80 t0 20\n",
    "sample_size = data.shape[0]\n",
    "train = data.iloc[:int(np.floor(sample_size*.8)),:].copy()\n",
    "test = data.iloc[int(np.floor(sample_size*.8)): ,:].copy()\n",
    "\n",
    "# Shuffle train data\n",
    "train = shuffle(train)\n",
    "\n",
    "x_train = train.iloc[:, 1:]\n",
    "y_train = train.iloc[:, 0]\n",
    "x_test = test.iloc[:, 1:]\n",
    "y_test = test.iloc[:, 0]"
   ]
  },
  {
   "cell_type": "code",
   "execution_count": 205,
   "metadata": {},
   "outputs": [],
   "source": [
    "# One-Hot encode\n",
    "enc = OneHotEncoder()\n",
    "x_train = enc.fit_transform(x_train)\n",
    "x_test = enc.transform(x_test)\n",
    "\n",
    "# select features\n",
    "from sklearn.feature_selection import chi2\n",
    "from sklearn.feature_selection import SelectKBest\n",
    "selector = SelectKBest(chi2, k=10)\n",
    "x_train = selector.fit_transform(x_train, y_train)\n",
    "x_test = selector.transform(x_test)"
   ]
  },
  {
   "cell_type": "code",
   "execution_count": 218,
   "metadata": {},
   "outputs": [
    {
     "name": "stderr",
     "output_type": "stream",
     "text": [
      "d:\\Anaconda3\\lib\\site-packages\\ipykernel_launcher.py:6: DeprecationWarning: object of type <class 'float'> cannot be safely interpreted as an integer.\n",
      "  \n",
      "d:\\Anaconda3\\lib\\site-packages\\sklearn\\linear_model\\stochastic_gradient.py:128: FutureWarning: max_iter and tol parameters have been added in <class 'sklearn.linear_model.stochastic_gradient.SGDClassifier'> in 0.19. If both are left unset, they default to max_iter=5 and tol=None. If tol is not None, max_iter defaults to max_iter=1000. From 0.21, default max_iter will be 1000, and default tol will be 1e-3.\n",
      "  \"and default tol will be 1e-3.\" % type(self), FutureWarning)\n"
     ]
    }
   ],
   "source": [
    "rbf_feature = RBFSampler(gamma=1, random_state=1)\n",
    "# Logisic Regression with log_loss\n",
    "clf = SGDClassifier(loss='log', penalty='elasticnet', n_jobs = -1)\n",
    "\n",
    "param_dist = {\"clf__alpha\":  np.logspace(-7, 0, 1e2),\n",
    "              \"clf__l1_ratio\":  np.linspace(0, 1, 1e4),\n",
    "              \"rbf_estimate__gamma\": np.logspace(-9, 3, 100)\n",
    "             }\n",
    "\n",
    "estimators = [('rbf_estimate', rbf_feature), ('clf', clf)]\n",
    "pipe = Pipeline(estimators)\n",
    "\n",
    "\n",
    "# run randomized search\n",
    "log_score = make_scorer(log_loss, greater_is_better=False, needs_proba=True)\n",
    "            \n",
    "n_iter_search = 12\n",
    "random_search = RandomizedSearchCV(pipe, param_distributions=param_dist, n_jobs=4,\n",
    "                                   scoring = log_score, n_iter=n_iter_search)\n",
    "\n",
    "random_search.fit(X=x_train, y=y_train);"
   ]
  },
  {
   "cell_type": "code",
   "execution_count": 222,
   "metadata": {},
   "outputs": [
    {
     "data": {
      "text/plain": [
       "0.0"
      ]
     },
     "execution_count": 222,
     "metadata": {},
     "output_type": "execute_result"
    }
   ],
   "source": [
    "# diagnostics: log_loss, error matrix, probability of error by different categories\n",
    "preds = random_search.predict(X=x_test)\n",
    "# Confusion matrixb\n",
    "np.mean(preds)"
   ]
  },
  {
   "cell_type": "markdown",
   "metadata": {},
   "source": [
    "### All Zero Prediction"
   ]
  },
  {
   "cell_type": "markdown",
   "metadata": {},
   "source": [
    "# Forth try\n",
    "- Add new features\n",
    "- 97% categories\n",
    "- one-hot\n",
    "- Linear regression"
   ]
  },
  {
   "cell_type": "code",
   "execution_count": 242,
   "metadata": {
    "collapsed": true
   },
   "outputs": [],
   "source": [
    "# Select test train data\n",
    "data = data_raw.copy()\n",
    "data.drop(['id', 'hour', 'device_ip'], axis=1, inplace=True)\n",
    "\n",
    "# remove low freq categories\n",
    "for col in data.columns:\n",
    "    temp = data[col].value_counts()\n",
    "    ind = (data[col].value_counts()/data[col].value_counts().sum())<.03\n",
    "    temp[ind] = max(temp.index) + 1\n",
    "    temp[~ind] = temp[~ind].index\n",
    "    temp\n",
    "    data[col] = data[col].map(temp)"
   ]
  },
  {
   "cell_type": "code",
   "execution_count": 243,
   "metadata": {},
   "outputs": [
    {
     "name": "stdout",
     "output_type": "stream",
     "text": [
      "banner_pos site_category\n",
      "banner_pos app_category\n",
      "banner_pos device_type\n",
      "banner_pos C16\n",
      "banner_pos C18\n",
      "site_category app_category\n",
      "site_category device_type\n",
      "site_category C16\n",
      "site_category C18\n",
      "app_category device_type\n",
      "app_category C16\n",
      "app_category C18\n",
      "device_type C16\n",
      "device_type C18\n",
      "C16 C18\n"
     ]
    }
   ],
   "source": [
    "# combine features\n",
    "cols = [('banner_pos', 'site_category'),\n",
    "        ('banner_pos', 'app_category'),\n",
    "        ('banner_pos', 'device_type'),\n",
    "        ('banner_pos', 'C16'),\n",
    "        ('banner_pos', 'C18'),\n",
    "        ('site_category', 'app_category'),\n",
    "        ('site_category', 'device_type'),\n",
    "        ('site_category', 'C16'),\n",
    "        ('site_category', 'C18'),\n",
    "        ('app_category', 'device_type'),\n",
    "        ('app_category', 'C16'),\n",
    "        ('app_category', 'C18'),\n",
    "        ('device_type', 'C16'),\n",
    "        ('device_type', 'C18'),\n",
    "        ('C16', 'C18'),\n",
    "       ]\n",
    "\n",
    "for i, j in cols:\n",
    "    print(i, j)\n",
    "    data[str(i)+'_'+str(j)] = data.loc[:, (i, j)].apply(lambda x: str(x[0])+str(x[1]) , axis=1)"
   ]
  },
  {
   "cell_type": "code",
   "execution_count": 246,
   "metadata": {
    "collapsed": true
   },
   "outputs": [],
   "source": [
    "# Train test split 80 t0 20\n",
    "sample_size = data.shape[0]\n",
    "train = data.iloc[:int(np.floor(sample_size*.8)),:].copy()\n",
    "test = data.iloc[int(np.floor(sample_size*.8)): ,:].copy()\n",
    "\n",
    "# Shuffle train data\n",
    "train = shuffle(train)\n",
    "\n",
    "x_train = train.iloc[:, 1:]\n",
    "y_train = train.iloc[:, 0]\n",
    "x_test = test.iloc[:, 1:]\n",
    "y_test = test.iloc[:, 0]"
   ]
  },
  {
   "cell_type": "code",
   "execution_count": 249,
   "metadata": {
    "collapsed": true
   },
   "outputs": [],
   "source": [
    "# One-Hot encode\n",
    "enc = OneHotEncoder()\n",
    "x_train = enc.fit_transform(x_train)\n",
    "x_test = enc.transform(x_test)\n",
    "\n",
    "# # select features\n",
    "# from sklearn.feature_selection import chi2\n",
    "# from sklearn.feature_selection import SelectKBest\n",
    "# selector = SelectKBest(chi2, k=100)\n",
    "# x_train = selector.fit_transform(x_train, y_train)\n",
    "# x_test = selector.transform(x_test)"
   ]
  },
  {
   "cell_type": "code",
   "execution_count": 261,
   "metadata": {},
   "outputs": [
    {
     "name": "stderr",
     "output_type": "stream",
     "text": [
      "d:\\Anaconda3\\lib\\site-packages\\ipykernel_launcher.py:5: DeprecationWarning: object of type <class 'float'> cannot be safely interpreted as an integer.\n",
      "  \"\"\"\n",
      "d:\\Anaconda3\\lib\\site-packages\\sklearn\\linear_model\\stochastic_gradient.py:128: FutureWarning: max_iter and tol parameters have been added in <class 'sklearn.linear_model.stochastic_gradient.SGDClassifier'> in 0.19. If both are left unset, they default to max_iter=5 and tol=None. If tol is not None, max_iter defaults to max_iter=1000. From 0.21, default max_iter will be 1000, and default tol will be 1e-3.\n",
      "  \"and default tol will be 1e-3.\" % type(self), FutureWarning)\n"
     ]
    }
   ],
   "source": [
    "# Logisic Regression with log_loss\n",
    "clf = SGDClassifier(loss='log', penalty='elasticnet', n_jobs=1)\n",
    "\n",
    "param_dist = {\"alpha\":  np.logspace(-7, 0, 1e4),\n",
    "              \"l1_ratio\": np.linspace(0, 1, 1e5)\n",
    "             }\n",
    "\n",
    "# run randomized search\n",
    "log_score = make_scorer(log_loss, greater_is_better=False, needs_proba=True)\n",
    "            \n",
    "n_iter_search = 16\n",
    "random_search = RandomizedSearchCV(clf, param_distributions=param_dist, n_jobs=4,\n",
    "                                   scoring = log_score, n_iter=n_iter_search)\n",
    "\n",
    "random_search.fit(X=x_train, y=y_train);"
   ]
  },
  {
   "cell_type": "code",
   "execution_count": 253,
   "metadata": {},
   "outputs": [
    {
     "data": {
      "text/plain": [
       "(array([[658736, 138916],\n",
       "        [  5617,   5311]], dtype=int64),\n",
       " 0.068460571686378133,\n",
       " 6.173914820502902,\n",
       " 0.013515051077197061)"
      ]
     },
     "execution_count": 253,
     "metadata": {},
     "output_type": "execute_result"
    }
   ],
   "source": [
    "# diagnostics: log_loss, error matrix, probability of error by different categories\n",
    "preds = random_search.predict(X=x_test)\n",
    "# Confusion matrix\n",
    "confusion_matrix(preds, y_test), f1_score(preds, y_test), log_loss(preds, y_test), np.mean(preds)"
   ]
  },
  {
   "cell_type": "code",
   "execution_count": 254,
   "metadata": {},
   "outputs": [
    {
     "data": {
      "image/png": "[encoded data removed]",
      "text/plain": [
       "<matplotlib.figure.Figure at 0x195b58dc8d0>"
      ]
     },
     "metadata": {},
     "output_type": "display_data"
    }
   ],
   "source": [
    "# ROC\n",
    "y_score = random_search.decision_function(x_test)\n",
    "\n",
    "fpr, tpr, _ = roc_curve(y_test, y_score)\n",
    "roc_auc = auc(fpr, tpr)\n",
    "\n",
    "lw=2\n",
    "plt.figure()\n",
    "plt.plot(fpr, tpr, color='darkorange',\n",
    "         lw=lw, label='ROC curve (area = %0.2f)' % roc_auc)\n",
    "plt.plot([0, 1], [0, 1], color='navy', lw=lw, linestyle='--')\n",
    "plt.xlim([0.0, 1.0])\n",
    "plt.ylim([0.0, 1.05])\n",
    "plt.xlabel('False Positive Rate')\n",
    "plt.ylabel('True Positive Rate')\n",
    "plt.title('Receiver operating characteristic example')\n",
    "plt.legend(loc=\"lower right\")\n",
    "plt.show()"
   ]
  },
  {
   "cell_type": "code",
   "execution_count": null,
   "metadata": {
    "collapsed": true
   },
   "outputs": [],
   "source": []
  },
  {
   "cell_type": "markdown",
   "metadata": {},
   "source": [
    "# Fifth try\n",
    "\n",
    "- Encode categories"
   ]
  },
  {
   "cell_type": "code",
   "execution_count": 242,
   "metadata": {
    "collapsed": true
   },
   "outputs": [],
   "source": [
    "# Select test train data\n",
    "data = data_raw.copy()\n",
    "data.drop(['id', 'hour', 'device_ip'], axis=1, inplace=True)\n",
    "\n",
    "# remove low freq categories\n",
    "for col in data.columns:\n",
    "    temp = data[col].value_counts()\n",
    "    ind = (data[col].value_counts()/data[col].value_counts().sum())<.03\n",
    "    temp[ind] = max(temp.index) + 1\n",
    "    temp[~ind] = temp[~ind].index\n",
    "    temp\n",
    "    data[col] = data[col].map(temp)"
   ]
  },
  {
   "cell_type": "code",
   "execution_count": 243,
   "metadata": {},
   "outputs": [
    {
     "name": "stdout",
     "output_type": "stream",
     "text": [
      "banner_pos site_category\n",
      "banner_pos app_category\n",
      "banner_pos device_type\n",
      "banner_pos C16\n",
      "banner_pos C18\n",
      "site_category app_category\n",
      "site_category device_type\n",
      "site_category C16\n",
      "site_category C18\n",
      "app_category device_type\n",
      "app_category C16\n",
      "app_category C18\n",
      "device_type C16\n",
      "device_type C18\n",
      "C16 C18\n"
     ]
    }
   ],
   "source": [
    "# combine features\n",
    "cols = [('banner_pos', 'site_category'),\n",
    "        ('banner_pos', 'app_category'),\n",
    "        ('banner_pos', 'device_type'),\n",
    "        ('banner_pos', 'C16'),\n",
    "        ('banner_pos', 'C18'),\n",
    "        ('site_category', 'app_category'),\n",
    "        ('site_category', 'device_type'),\n",
    "        ('site_category', 'C16'),\n",
    "        ('site_category', 'C18'),\n",
    "        ('app_category', 'device_type'),\n",
    "        ('app_category', 'C16'),\n",
    "        ('app_category', 'C18'),\n",
    "        ('device_type', 'C16'),\n",
    "        ('device_type', 'C18'),\n",
    "        ('C16', 'C18'),\n",
    "       ]\n",
    "\n",
    "for i, j in cols:\n",
    "    print(i, j)\n",
    "    data[str(i)+'_'+str(j)] = data.loc[:, (i, j)].apply(lambda x: str(x[0])+str(x[1]) , axis=1)"
   ]
  },
  {
   "cell_type": "code",
   "execution_count": 300,
   "metadata": {},
   "outputs": [
    {
     "name": "stdout",
     "output_type": "stream",
     "text": [
      "C16_C18\n"
     ]
    }
   ],
   "source": [
    "# encode to continous\n",
    "newdata = data.copy()\n",
    "for col in newdata.columns:\n",
    "    if col not in ['click']:\n",
    "        clear_output()\n",
    "        print(col)\n",
    "        temp = pd.pivot_table(newdata, index=[col], values='click', aggfunc='mean')\n",
    "        newdata[col] = newdata[col].map(temp.squeeze())    "
   ]
  },
  {
   "cell_type": "code",
   "execution_count": 302,
   "metadata": {
    "collapsed": true
   },
   "outputs": [],
   "source": [
    "# Train test split 80 t0 20\n",
    "sample_size = newdata.shape[0]\n",
    "train = newdata.iloc[:int(np.floor(sample_size*.8)),:].copy()\n",
    "test = newdata.iloc[int(np.floor(sample_size*.8)): ,:].copy()\n",
    "\n",
    "# Shuffle train data\n",
    "train = shuffle(train)\n",
    "\n",
    "x_train = train.iloc[:, 1:]\n",
    "y_train = train.iloc[:, 0]\n",
    "x_test = test.iloc[:, 1:]\n",
    "y_test = test.iloc[:, 0]"
   ]
  },
  {
   "cell_type": "code",
   "execution_count": 307,
   "metadata": {},
   "outputs": [
    {
     "name": "stderr",
     "output_type": "stream",
     "text": [
      "d:\\Anaconda3\\lib\\site-packages\\sklearn\\linear_model\\stochastic_gradient.py:128: FutureWarning: max_iter and tol parameters have been added in <class 'sklearn.linear_model.stochastic_gradient.SGDClassifier'> in 0.19. If both are left unset, they default to max_iter=5 and tol=None. If tol is not None, max_iter defaults to max_iter=1000. From 0.21, default max_iter will be 1000, and default tol will be 1e-3.\n",
      "  \"and default tol will be 1e-3.\" % type(self), FutureWarning)\n"
     ]
    }
   ],
   "source": [
    "# Logisic Regression with log_loss\n",
    "clf = SGDClassifier(loss='log', penalty='elasticnet', n_jobs=1)\n",
    "\n",
    "param_dist = {\"alpha\":  np.logspace(-4, 0, 20),\n",
    "              \"l1_ratio\": np.linspace(0, 1, 20)\n",
    "             }\n",
    "\n",
    "# run randomized search\n",
    "log_score = make_scorer(log_loss, greater_is_better=False, needs_proba=True)\n",
    "            \n",
    "n_iter_search = 16\n",
    "random_search = RandomizedSearchCV(clf, param_distributions=param_dist, n_jobs=4,\n",
    "                                   scoring = log_score, n_iter=n_iter_search)\n",
    "\n",
    "random_search.fit(X=x_train, y=y_train);"
   ]
  },
  {
   "cell_type": "code",
   "execution_count": 308,
   "metadata": {},
   "outputs": [
    {
     "data": {
      "text/plain": [
       "(array([[651455, 134544],\n",
       "        [ 12898,   9683]], dtype=int64),\n",
       " 0.11609754927821209,\n",
       " 6.2981694455156818,\n",
       " 0.027926735758984886)"
      ]
     },
     "execution_count": 308,
     "metadata": {},
     "output_type": "execute_result"
    }
   ],
   "source": [
    "# diagnostics: log_loss, error matrix, probability of error by different categories\n",
    "preds = random_search.predict(X=x_test)\n",
    "# Confusion matrix\n",
    "confusion_matrix(preds, y_test), f1_score(preds, y_test), log_loss(preds, y_test), np.mean(preds)"
   ]
  },
  {
   "cell_type": "code",
   "execution_count": 310,
   "metadata": {},
   "outputs": [
    {
     "data": {
      "image/png": "[encoded data removed]",
      "text/plain": [
       "<matplotlib.figure.Figure at 0x191b95145c0>"
      ]
     },
     "metadata": {},
     "output_type": "display_data"
    }
   ],
   "source": [
    "# ROC\n",
    "y_score = random_search.decision_function(x_test)\n",
    "\n",
    "fpr, tpr, _ = roc_curve(y_test, y_score)\n",
    "roc_auc = auc(fpr, tpr)\n",
    "\n",
    "lw=2\n",
    "plt.figure()\n",
    "plt.plot(fpr, tpr, color='darkorange',\n",
    "         lw=lw, label='ROC curve (area = %0.2f)' % roc_auc)\n",
    "plt.plot([0, 1], [0, 1], color='navy', lw=lw, linestyle='--')\n",
    "plt.xlim([0.0, 1.0])\n",
    "plt.ylim([0.0, 1.05])\n",
    "plt.xlabel('False Positive Rate')\n",
    "plt.ylabel('True Positive Rate')\n",
    "plt.title('Receiver operating characteristic example')\n",
    "plt.legend(loc=\"lower right\")\n",
    "plt.show()"
   ]
  },
  {
   "cell_type": "code",
   "execution_count": null,
   "metadata": {},
   "outputs": [
    {
     "name": "stderr",
     "output_type": "stream",
     "text": [
      "d:\\Anaconda3\\lib\\site-packages\\sklearn\\linear_model\\stochastic_gradient.py:128: FutureWarning: max_iter and tol parameters have been added in <class 'sklearn.linear_model.stochastic_gradient.SGDClassifier'> in 0.19. If both are left unset, they default to max_iter=5 and tol=None. If tol is not None, max_iter defaults to max_iter=1000. From 0.21, default max_iter will be 1000, and default tol will be 1e-3.\n",
      "  \"and default tol will be 1e-3.\" % type(self), FutureWarning)\n"
     ]
    }
   ],
   "source": [
    "from sklearn.decomposition import PCA\n",
    "# Logisic Regression with log_loss\n",
    "clf = SGDClassifier(loss='log', penalty='l2', n_jobs = -1)\n",
    "\n",
    "param_dist = {\"clf__alpha\":  np.logspace(-4, 0, 30),\n",
    "#               \"clf__l1_ratio\":  np.linspace(0, 1, 20),\n",
    "              \"pca__whiten\": [True, False],\n",
    "              'pca__n_components': [5, 10, 15, 20],\n",
    "             }\n",
    "\n",
    "estimators = [('pca', PCA()), ('clf', clf)]\n",
    "pipe = Pipeline(estimators)\n",
    "\n",
    "\n",
    "# run randomized search\n",
    "# log_score = make_scorer(log_loss, greater_is_better=False, needs_proba=True)\n",
    "            \n",
    "n_iter_search = 8\n",
    "random_search = RandomizedSearchCV(pipe, param_distributions=param_dist, n_jobs=4,\n",
    "#                                    scoring = log_score,\n",
    "                                   n_iter=n_iter_search)\n",
    "\n",
    "random_search.fit(X=x_train, y=y_train);"
   ]
  },
  {
   "cell_type": "code",
   "execution_count": null,
   "metadata": {},
   "outputs": [],
   "source": [
    "# diagnostics: log_loss, error matrix, probability of error by different categories\n",
    "preds = random_search.predict(X=x_test)\n",
    "# Confusion matrix\n",
    "confusion_matrix(preds, y_test), f1_score(preds, y_test), log_loss(preds, y_test), np.mean(preds)"
   ]
  },
  {
   "cell_type": "code",
   "execution_count": null,
   "metadata": {
    "collapsed": true
   },
   "outputs": [],
   "source": [
    "# ROC\n",
    "y_score = random_search.decision_function(x_test)\n",
    "\n",
    "fpr, tpr, _ = roc_curve(y_test, y_score)\n",
    "roc_auc = auc(fpr, tpr)\n",
    "\n",
    "lw=2\n",
    "plt.figure()\n",
    "plt.plot(fpr, tpr, color='darkorange',\n",
    "         lw=lw, label='ROC curve (area = %0.2f)' % roc_auc)\n",
    "plt.plot([0, 1], [0, 1], color='navy', lw=lw, linestyle='--')\n",
    "plt.xlim([0.0, 1.0])\n",
    "plt.ylim([0.0, 1.05])\n",
    "plt.xlabel('False Positive Rate')\n",
    "plt.ylabel('True Positive Rate')\n",
    "plt.title('Receiver operating characteristic example')\n",
    "plt.legend(loc=\"lower right\")\n",
    "plt.show()"
   ]
  }
 ],
 "metadata": {
  "kernelspec": {
   "display_name": "Python 3",
   "language": "python",
   "name": "python3"
  },
  "language_info": {
   "codemirror_mode": {
    "name": "ipython",
    "version": 3
   },
   "file_extension": ".py",
   "mimetype": "text/x-python",
   "name": "python",
   "nbconvert_exporter": "python",
   "pygments_lexer": "ipython3",
   "version": "3.6.3"
  }
 },
 "nbformat": 4,
 "nbformat_minor": 2
}
